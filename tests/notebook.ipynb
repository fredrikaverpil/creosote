{
 "cells": [
  {
   "cell_type": "code",
   "execution_count": null,
   "metadata": {},
   "outputs": [],
   "source": [
    "import nbconvert\n",
    "from nbformat import read\n",
    "\n",
    "# just making sure ruff won't complain about unused imports\n",
    "print(nbconvert)\n",
    "print(read)"
   ]
  }
 ],
 "metadata": {
  "language_info": {
   "name": "python"
  }
 },
 "nbformat": 4,
 "nbformat_minor": 2
}
